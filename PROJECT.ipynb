{
  "nbformat": 4,
  "nbformat_minor": 0,
  "metadata": {
    "colab": {
      "provenance": [],
      "authorship_tag": "ABX9TyOZFfu4Vy2yYyi+IODlehbV",
      "include_colab_link": true
    },
    "kernelspec": {
      "name": "python3",
      "display_name": "Python 3"
    },
    "language_info": {
      "name": "python"
    }
  },
  "cells": [
    {
      "cell_type": "markdown",
      "metadata": {
        "id": "view-in-github",
        "colab_type": "text"
      },
      "source": [
        "<a href=\"https://colab.research.google.com/github/MEGHAGITHUBTEST/Project/blob/main/PROJECT.ipynb\" target=\"_parent\"><img src=\"https://colab.research.google.com/assets/colab-badge.svg\" alt=\"Open In Colab\"/></a>"
      ]
    },
    {
      "cell_type": "code",
      "execution_count": null,
      "metadata": {
        "id": "vIiZgAAkuQGH"
      },
      "outputs": [],
      "source": [
        "EDA (HOTEL BOOKING ANYLYSIS) \n",
        " "
      ]
    },
    {
      "cell_type": "markdown",
      "source": [
        "PROJECT SUMMARY :- \n",
        "\n",
        "We are provided with a hotel bookings dataset.\n",
        "\n",
        "Our main objective is to perform EDA on the given dataset and draw useful conclusions about general trends in hotel bookings and how factors governing hotel bookings interact with each other.\n",
        "\n",
        "Dataset:-\n",
        "We have been given a 'hotel booking' dataset. This dataset contains booking information for a city hotel and a resort hotel. It contains different features like :-\n",
        "1 hotel\n",
        "2 is_canceled\n",
        "3 lead_time\n",
        "4 arrival_date_year\n",
        "5 arrival_date_month\n",
        "6 arrival_date_week_number \n",
        "7 arrival_date_day_of_month \n",
        "8 stays_in_weekend_nights \n",
        "9 stays_in_week_nights \n",
        "10  adults \n",
        "11 children \n",
        "12 babies \n",
        "13 meal \n",
        "14 country \n",
        "15 market_segment \n",
        "16 distribution_channel \n",
        "17 is_repeated_guest \n",
        "18 company \n",
        "\n"
      ],
      "metadata": {
        "id": "IGZ7KryiXt3i"
      }
    },
    {
      "cell_type": "markdown",
      "source": [],
      "metadata": {
        "id": "gQlYgv9T1T4T"
      }
    },
    {
      "cell_type": "markdown",
      "source": [
        "It contains 119390 rows and 32  columns."
      ],
      "metadata": {
        "id": "zbFY6UVMaJJu"
      }
    },
    {
      "cell_type": "markdown",
      "source": [],
      "metadata": {
        "id": "P07Pxpe31aHC"
      }
    },
    {
      "cell_type": "markdown",
      "source": [
        "Data Cleaning :-\n"
      ],
      "metadata": {
        "id": "zdB6-L1JadkO"
      }
    },
    {
      "cell_type": "markdown",
      "source": [],
      "metadata": {
        "id": "mrsFIF8Z1eMt"
      }
    },
    {
      "cell_type": "markdown",
      "source": [
        "1  Handling null values\n"
      ],
      "metadata": {
        "id": "PO9oH0_bb8Wb"
      }
    },
    {
      "cell_type": "markdown",
      "source": [],
      "metadata": {
        "id": "XqZtHYfg1oz4"
      }
    },
    {
      "cell_type": "markdown",
      "source": [
        " Null values in columns were replaced by 0 or mean or mode, as required.\n"
      ],
      "metadata": {
        "id": "H0NKAOFscANR"
      }
    },
    {
      "cell_type": "markdown",
      "source": [],
      "metadata": {
        "id": "qtx-QvDN3nri"
      }
    },
    {
      "cell_type": "markdown",
      "source": [
        "\n",
        "\n",
        "```\n",
        "\n",
        "```\n",
        "\n",
        " Exploratory Data Analysis :-\n",
        " "
      ],
      "metadata": {
        "id": "mQ62t1dVcML4"
      }
    },
    {
      "cell_type": "markdown",
      "source": [],
      "metadata": {
        "id": "CQt0Wu3i3xU9"
      }
    },
    {
      "cell_type": "markdown",
      "source": [
        "Performed EDA and answred the following questions:\n",
        "\n"
      ],
      "metadata": {
        "id": "K0huF-KKccEx"
      }
    },
    {
      "cell_type": "markdown",
      "source": [],
      "metadata": {
        "id": "xZf8zE9o3ysn"
      }
    },
    {
      "cell_type": "markdown",
      "source": [
        "1. Which type of hotels are booked most?"
      ],
      "metadata": {
        "id": "OfM7zCftcicE"
      }
    },
    {
      "cell_type": "markdown",
      "source": [],
      "metadata": {
        "id": "ZCWrNS0k33bZ"
      }
    },
    {
      "cell_type": "markdown",
      "source": [
        "  2. From which area guests are more coming? "
      ],
      "metadata": {
        "id": "coe6gHOle7Y8"
      }
    },
    {
      "cell_type": "markdown",
      "source": [],
      "metadata": {
        "id": "mRoU7DTE37EN"
      }
    },
    {
      "cell_type": "markdown",
      "source": [
        " 3. Is customers are repetative? "
      ],
      "metadata": {
        "id": "A8G3dI0-fQDz"
      }
    },
    {
      "cell_type": "markdown",
      "source": [],
      "metadata": {
        "id": "DJk8Lh-I4AgT"
      }
    },
    {
      "cell_type": "markdown",
      "source": [
        "  4.  In which period hotels are booked most ?"
      ],
      "metadata": {
        "id": "VJqnq6-nfYIt"
      }
    },
    {
      "cell_type": "markdown",
      "source": [],
      "metadata": {
        "id": "AyuuFa7q4IcU"
      }
    },
    {
      "cell_type": "markdown",
      "source": [
        "   5.Which meal type is most preffered meal of customers?\n",
        "\n"
      ],
      "metadata": {
        "id": "mLlKdl5NfhiI"
      }
    },
    {
      "cell_type": "markdown",
      "source": [],
      "metadata": {
        "id": "vVgJiQx-4MeG"
      }
    },
    {
      "cell_type": "markdown",
      "source": [
        "Mainly performed using Matplotlib and Seaborn library and the following graph and plots had been used:\n",
        "\n"
      ],
      "metadata": {
        "id": "bAwXv3bvgsRq"
      }
    },
    {
      "cell_type": "markdown",
      "source": [],
      "metadata": {
        "id": "tpMtnzVd4QgZ"
      }
    },
    {
      "cell_type": "markdown",
      "source": [
        "1. Pie Chart.\n"
      ],
      "metadata": {
        "id": "D9_vw9G-g2XS"
      }
    },
    {
      "cell_type": "markdown",
      "source": [],
      "metadata": {
        "id": "Cp7a4K-H4Ubr"
      }
    },
    {
      "cell_type": "markdown",
      "source": [
        " 2. Heatmap "
      ],
      "metadata": {
        "id": "ris80rMxg430"
      }
    },
    {
      "cell_type": "markdown",
      "source": [],
      "metadata": {
        "id": "Erx0P5xd4Xyi"
      }
    },
    {
      "cell_type": "markdown",
      "source": [
        " 3. Barplot "
      ],
      "metadata": {
        "id": "NurxqZGvhaBV"
      }
    },
    {
      "cell_type": "markdown",
      "source": [],
      "metadata": {
        "id": "i__WGI1k4bcm"
      }
    },
    {
      "cell_type": "markdown",
      "source": [
        "  4. Countplot"
      ],
      "metadata": {
        "id": "C_IalHMAhePp"
      }
    },
    {
      "cell_type": "markdown",
      "source": [],
      "metadata": {
        "id": "xarXWtXZ4eeb"
      }
    },
    {
      "cell_type": "markdown",
      "source": [
        "   5. Lineplot"
      ],
      "metadata": {
        "id": "B1E4uYfNhkGF"
      }
    },
    {
      "cell_type": "markdown",
      "source": [],
      "metadata": {
        "id": "7ijFCjKb4h5t"
      }
    },
    {
      "cell_type": "markdown",
      "source": [
        " 6. Regplot "
      ],
      "metadata": {
        "id": "2_2ioExphq1r"
      }
    },
    {
      "cell_type": "markdown",
      "source": [],
      "metadata": {
        "id": "X8gaUwzF4lMJ"
      }
    },
    {
      "cell_type": "markdown",
      "source": [],
      "metadata": {
        "id": "FqTR86wR4oiO"
      }
    },
    {
      "cell_type": "markdown",
      "source": [],
      "metadata": {
        "id": "PkU6hcEh40u2"
      }
    },
    {
      "cell_type": "markdown",
      "source": [
        "GitHUB Link :-"
      ],
      "metadata": {
        "id": "WZOWxxbVn_he"
      }
    },
    {
      "cell_type": "markdown",
      "source": [],
      "metadata": {
        "id": "yvJ-3Ik741w6"
      }
    },
    {
      "cell_type": "markdown",
      "source": [],
      "metadata": {
        "id": "RHk_dYPa42ai"
      }
    },
    {
      "cell_type": "markdown",
      "source": [
        "Problem Statment :-"
      ],
      "metadata": {
        "id": "cmv0bQ0AoK1v"
      }
    },
    {
      "cell_type": "markdown",
      "source": [],
      "metadata": {
        "id": "HJ2gR8up47x5"
      }
    },
    {
      "cell_type": "markdown",
      "source": [
        "Exploring and anyalysing hotel data to discover important factors that govern the bookings."
      ],
      "metadata": {
        "id": "cW1dV57loQNl"
      }
    },
    {
      "cell_type": "markdown",
      "source": [],
      "metadata": {
        "id": "9sHYQavL5C2x"
      }
    },
    {
      "cell_type": "markdown",
      "source": [
        "Business context :-"
      ],
      "metadata": {
        "id": "hdOPmG03pqHk"
      }
    },
    {
      "cell_type": "markdown",
      "source": [],
      "metadata": {
        "id": "AD1Ocrm55EO8"
      }
    },
    {
      "cell_type": "markdown",
      "source": [
        "Anylysing how different factors like hotel type, meal type, customer type are affecting the bookings and cancelation of bookings of hotels. \n",
        "By drawing the appropriate conclusions, bussiness could grow better."
      ],
      "metadata": {
        "id": "K688d3VKpxTS"
      }
    },
    {
      "cell_type": "markdown",
      "source": [],
      "metadata": {
        "id": "sM1khv0w5IuG"
      }
    },
    {
      "cell_type": "code",
      "execution_count": null,
      "metadata": {
        "id": "_0496of1Jq-n"
      },
      "outputs": [],
      "source": [
        "# Importing libraries\n",
        "\n",
        "import pandas as pd\n",
        "import numpy as np\n",
        "import matplotlib.pyplot as plt\n",
        "import seaborn as sns\n",
        "%matplotlib inline\n"
      ]
    },
    {
      "cell_type": "code",
      "execution_count": null,
      "metadata": {
        "id": "2YK2roesJty3"
      },
      "outputs": [],
      "source": [
        "# import warnings\n",
        "\n",
        "import warnings\n",
        "warnings.filterwarnings('ignore')\n"
      ]
    },
    {
      "cell_type": "code",
      "execution_count": null,
      "metadata": {
        "id": "gw9BLUzUJnEq"
      },
      "outputs": [],
      "source": [
        "from google.colab import drive"
      ]
    },
    {
      "cell_type": "code",
      "execution_count": null,
      "metadata": {
        "colab": {
          "base_uri": "https://localhost:8080/"
        },
        "id": "6d6_PW8NNybX",
        "outputId": "66eef4eb-07cc-4900-83f2-64aa8268b775"
      },
      "outputs": [
        {
          "output_type": "stream",
          "name": "stdout",
          "text": [
            "Mounted at /content/drive\n"
          ]
        }
      ],
      "source": [
        "#Mounting drive\n",
        "drive.mount('/content/drive')\n"
      ]
    },
    {
      "cell_type": "code",
      "execution_count": null,
      "metadata": {
        "id": "dkfHXdFFOkJt"
      },
      "outputs": [],
      "source": [
        "import pandas as pd "
      ]
    },
    {
      "cell_type": "code",
      "execution_count": null,
      "metadata": {
        "id": "qqWieg5cOpym"
      },
      "outputs": [],
      "source": [
        "# Loading dataset and storing it in dataframe\n",
        "\n",
        "df = pd.read_csv('/content/drive/MyDrive/hotelbooking/Hotel Bookings (1).csv')"
      ]
    }
  ]
}