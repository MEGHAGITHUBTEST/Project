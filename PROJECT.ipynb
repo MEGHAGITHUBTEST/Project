{
  "nbformat": 4,
  "nbformat_minor": 0,
  "metadata": {
    "colab": {
      "provenance": [],
      "authorship_tag": "ABX9TyOpyXdvGWswr1/vN3ZEjmGi",
      "include_colab_link": true
    },
    "kernelspec": {
      "name": "python3",
      "display_name": "Python 3"
    },
    "language_info": {
      "name": "python"
    }
  },
  "cells": [
    {
      "cell_type": "markdown",
      "metadata": {
        "id": "view-in-github",
        "colab_type": "text"
      },
      "source": [
        "<a href=\"https://colab.research.google.com/github/MEGHAGITHUBTEST/Project/blob/main/PROJECT.ipynb\" target=\"_parent\"><img src=\"https://colab.research.google.com/assets/colab-badge.svg\" alt=\"Open In Colab\"/></a>"
      ]
    },
    {
      "cell_type": "code",
      "execution_count": null,
      "metadata": {
        "id": "vIiZgAAkuQGH"
      },
      "outputs": [],
      "source": [
        "EDA (HOTEL BOOKING ANYLYSIS) \n",
        " "
      ]
    },
    {
      "cell_type": "markdown",
      "source": [
        "PROJECT SUMMARY :- \n",
        "\n",
        "We are provided with a hotel bookings dataset.\n",
        "\n",
        "Our main objective is to perform EDA on the given dataset and draw useful conclusions about general trends in hotel bookings and how factors governing hotel bookings interact with each other.\n",
        "\n",
        "Dataset:-\n",
        "We have been given a 'hotel booking' dataset. This dataset contains booking information for a city hotel and a resort hotel. It contains different features like :-\n",
        "1 hotel\n",
        "2 is_canceled\n",
        "3 lead_time\n",
        "4 arrival_date_year\n",
        "5 arrival_date_month\n",
        "6 arrival_date_week_number \n",
        "7 arrival_date_day_of_month \n",
        "8 stays_in_weekend_nights \n",
        "9 stays_in_week_nights \n",
        "10  adults \n",
        "11 children \n",
        "12 babies \n",
        "13 meal \n",
        "14 country \n",
        "15 market_segment \n",
        "16 distribution_channel \n",
        "17 is_repeated_guest \n",
        "18 company \n",
        "\n"
      ],
      "metadata": {
        "id": "IGZ7KryiXt3i"
      }
    },
    {
      "cell_type": "markdown",
      "source": [],
      "metadata": {
        "id": "gQlYgv9T1T4T"
      }
    },
    {
      "cell_type": "markdown",
      "source": [
        "It contains 119390 rows and 32  columns."
      ],
      "metadata": {
        "id": "zbFY6UVMaJJu"
      }
    },
    {
      "cell_type": "markdown",
      "source": [],
      "metadata": {
        "id": "P07Pxpe31aHC"
      }
    },
    {
      "cell_type": "markdown",
      "source": [
        "Data Cleaning :-\n"
      ],
      "metadata": {
        "id": "zdB6-L1JadkO"
      }
    },
    {
      "cell_type": "markdown",
      "source": [],
      "metadata": {
        "id": "mrsFIF8Z1eMt"
      }
    },
    {
      "cell_type": "markdown",
      "source": [
        "1  Handling null values\n"
      ],
      "metadata": {
        "id": "PO9oH0_bb8Wb"
      }
    },
    {
      "cell_type": "markdown",
      "source": [],
      "metadata": {
        "id": "XqZtHYfg1oz4"
      }
    },
    {
      "cell_type": "markdown",
      "source": [
        " Null values in columns were replaced by 0 or mean or mode, as required.\n"
      ],
      "metadata": {
        "id": "H0NKAOFscANR"
      }
    }
  ]
}